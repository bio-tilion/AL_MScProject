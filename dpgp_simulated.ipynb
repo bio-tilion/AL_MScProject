{
 "cells": [
  {
   "cell_type": "markdown",
   "metadata": {},
   "source": [
    "## Impulse simulated data"
   ]
  },
  {
   "cell_type": "code",
   "execution_count": 1,
   "metadata": {},
   "outputs": [],
   "source": [
    "import pandas as pd\n",
    "import matplotlib.pyplot as plt\n",
    "\n",
    "def get_cluster_counts(cluster_file: str) -> dict:\n",
    "    df = pd.read_csv(cluster_file, sep=\"\\t\")\n",
    "    out_dict = df.groupby(\"cluster\").count()[\"gene\"].to_dict()\n",
    "    return out_dict\n",
    "\n",
    "def print_clusters(clusters: dict):\n",
    "    out = \"{\\n\"\n",
    "    for n in range(len(clusters)//10 + 1):\n",
    "        temp = dict()        \n",
    "        for k, v in clusters.items():\n",
    "            if k//10 == n:\n",
    "                temp[k] = v\n",
    "        out += \"\\t\"\n",
    "        if n == 0:\n",
    "            out += \" \" * 9\n",
    "        for tk, tv in temp.items():\n",
    "            out += f\"{tk:4}:{tv:3},\"\n",
    "        out += \"\\n\"\n",
    "    out += \"}\"\n",
    "    print(out)"
   ]
  },
  {
   "cell_type": "markdown",
   "metadata": {},
   "source": [
    "### Default DPGP"
   ]
  },
  {
   "cell_type": "markdown",
   "metadata": {},
   "source": [
    "#### Default arguments\n",
    "<img src=\"DPGP/results/simulated/default/simulated_case_gene_expression_fig_1.png\" width=\"500\">\n",
    "<img src=\"DPGP/results/simulated/default/simulated_case_gene_expression_fig_2.png\" width=\"500\">\n",
    "<img src=\"DPGP/results/simulated/default/simulated_case_gene_expression_fig_3.png\" width=\"500\">\n",
    "<img src=\"DPGP/results/simulated/default/simulated_case_gene_expression_fig_4.png\" width=\"500\">\n",
    "<img src=\"DPGP/results/simulated/default/simulated_case_gene_expression_fig_5.png\" width=\"500\">\n",
    "<img src=\"DPGP/results/simulated/default/simulated_case_gene_expression_fig_6.png\" width=\"500\">\n",
    "<img src=\"DPGP/results/simulated/default/simulated_case_gene_expression_fig_7.png\" width=\"500\">\n",
    "<img src=\"DPGP/results/simulated/default/simulated_case_gene_expression_fig_8.png\" width=\"500\">"
   ]
  },
  {
   "cell_type": "code",
   "execution_count": 2,
   "metadata": {},
   "outputs": [
    {
     "name": "stdout",
     "output_type": "stream",
     "text": [
      "{\n",
      "\t            1: 20,   2: 15,   3: 22,   4: 20,   5: 26,   6: 14,   7: 14,   8: 29,   9:  8,\n",
      "\t  10:  4,  11: 12,  12: 29,  13: 45,  14: 15,  15:  7,  16:  6,  17: 11,  18: 15,  19: 18,\n",
      "\t  20:  7,  21:  9,  22: 23,  23: 21,  24: 14,  25: 10,  26: 17,  27:  4,  28:  9,  29:  6,\n",
      "\t  30:  8,  31: 12,  32:  3,  33: 10,  34:  3,  35:  7,  36: 11,  37: 12,  38: 13,  39: 23,\n",
      "\t  40:  3,  41:  4,  42: 23,  43:  7,  44: 11,\n",
      "}\n"
     ]
    }
   ],
   "source": [
    "default = get_cluster_counts(\"DPGP/results/simulated/default/simulated_case_optimal_clustering.txt\")\n",
    "print_clusters(default)"
   ]
  },
  {
   "cell_type": "markdown",
   "metadata": {},
   "source": [
    "#### Lower shape\n",
    "<img src=\"DPGP/results/simulated/default_shape/simulated_case_gene_expression_fig_1.png\" width=\"500\">\n",
    "<img src=\"DPGP/results/simulated/default_shape/simulated_case_gene_expression_fig_2.png\" width=\"500\">\n",
    "<img src=\"DPGP/results/simulated/default_shape/simulated_case_gene_expression_fig_3.png\" width=\"500\">\n",
    "<img src=\"DPGP/results/simulated/default_shape/simulated_case_gene_expression_fig_4.png\" width=\"500\">\n",
    "<img src=\"DPGP/results/simulated/default_shape/simulated_case_gene_expression_fig_5.png\" width=\"500\">\n",
    "<img src=\"DPGP/results/simulated/default_shape/simulated_case_gene_expression_fig_6.png\" width=\"500\">"
   ]
  },
  {
   "cell_type": "code",
   "execution_count": 3,
   "metadata": {},
   "outputs": [
    {
     "name": "stdout",
     "output_type": "stream",
     "text": [
      "{\n",
      "\t            1: 31,   2: 20,   3: 22,   4: 11,   5: 30,   6: 52,   7: 23,   8: 27,   9: 18,\n",
      "\t  10: 34,  11: 13,  12: 21,  13: 11,  14: 30,  15: 18,  16: 15,  17: 19,  18: 10,  19:  7,\n",
      "\t  20: 11,  21: 11,  22: 20,  23: 15,  24: 21,  25:  9,  26: 10,  27: 11,  28: 30,  29: 15,\n",
      "\t  30: 22,  31: 13,\n",
      "}\n"
     ]
    }
   ],
   "source": [
    "default_shape = get_cluster_counts(\"DPGP/results/simulated/default_shape/simulated_case_optimal_clustering.txt\")\n",
    "print_clusters(default_shape)"
   ]
  },
  {
   "cell_type": "markdown",
   "metadata": {},
   "source": [
    "### Fast DPGP"
   ]
  },
  {
   "cell_type": "markdown",
   "metadata": {},
   "source": [
    "#### Default shape ($\\alpha=12$)\n",
    "<img src=\"DPGP/results/simulated/fast_shape12/case_gene_expression_fig_1.png\" width=\"500\">\n",
    "<img src=\"DPGP/results/simulated/fast_shape12/case_gene_expression_fig_2.png\" width=\"500\">\n",
    "<img src=\"DPGP/results/simulated/fast_shape12/case_gene_expression_fig_3.png\" width=\"500\">\n",
    "<img src=\"DPGP/results/simulated/fast_shape12/case_gene_expression_fig_4.png\" width=\"500\">\n",
    "<img src=\"DPGP/results/simulated/fast_shape12/case_gene_expression_fig_5.png\" width=\"500\">\n",
    "<img src=\"DPGP/results/simulated/fast_shape12/case_gene_expression_fig_6.png\" width=\"500\">"
   ]
  },
  {
   "cell_type": "code",
   "execution_count": 4,
   "metadata": {},
   "outputs": [
    {
     "name": "stdout",
     "output_type": "stream",
     "text": [
      "{\n",
      "\t            1: 26,   2: 13,   3: 20,   4: 13,   5: 31,   6: 16,   7: 19,   8: 29,   9: 30,\n",
      "\t  10: 10,  11: 60,  12: 18,  13: 15,  14: 21,  15: 20,  16:  6,  17: 18,  18: 10,  19: 22,\n",
      "\t  20: 12,  21:  7,  22:  7,  23: 21,  24: 14,  25: 18,  26: 25,  27:  7,  28:  7,  29:  9,\n",
      "\t  30: 23,  31:  4,  32:  9,  33: 12,  34: 18,  35: 10,\n",
      "}\n"
     ]
    }
   ],
   "source": [
    "fast_shape12 = get_cluster_counts(\"DPGP/results/simulated/fast_shape12/case_optimal_clustering.txt\")\n",
    "print_clusters(fast_shape12)"
   ]
  },
  {
   "cell_type": "markdown",
   "metadata": {},
   "source": [
    "#### Default shape ($\\alpha=10$)\n",
    "<img src=\"DPGP/results/simulated/fast_shape10/case_gene_expression_fig_1.png\" width=\"500\">\n",
    "<img src=\"DPGP/results/simulated/fast_shape10/case_gene_expression_fig_2.png\" width=\"500\">\n",
    "<img src=\"DPGP/results/simulated/fast_shape10/case_gene_expression_fig_3.png\" width=\"500\">\n",
    "<img src=\"DPGP/results/simulated/fast_shape10/case_gene_expression_fig_4.png\" width=\"500\">\n",
    "<img src=\"DPGP/results/simulated/fast_shape10/case_gene_expression_fig_5.png\" width=\"500\">"
   ]
  },
  {
   "cell_type": "code",
   "execution_count": 5,
   "metadata": {},
   "outputs": [
    {
     "name": "stdout",
     "output_type": "stream",
     "text": [
      "{\n",
      "\t            1: 24,   2: 14,   3: 20,   4: 10,   5: 30,   6: 13,   7: 23,   8: 31,   9: 35,\n",
      "\t  10: 17,  11: 10,  12: 48,  13: 87,  14: 14,  15: 34,  16: 19,  17: 24,  18:  9,  19: 25,\n",
      "\t  20:  8,  21: 19,  22: 17,  23: 14,  24: 10,  25: 27,  26: 18,\n",
      "}\n"
     ]
    }
   ],
   "source": [
    "fast_shape10 = get_cluster_counts(\"DPGP/results/simulated/fast_shape10/case_optimal_clustering.txt\")\n",
    "print_clusters(fast_shape10)"
   ]
  },
  {
   "cell_type": "markdown",
   "metadata": {},
   "source": [
    "#### Default shape ($\\alpha=8$)\n",
    "<img src=\"DPGP/results/simulated/fast_shape8/case_gene_expression_fig_1.png\" width=\"500\">\n",
    "<img src=\"DPGP/results/simulated/fast_shape8/case_gene_expression_fig_2.png\" width=\"500\">\n",
    "<img src=\"DPGP/results/simulated/fast_shape8/case_gene_expression_fig_3.png\" width=\"500\">\n",
    "<img src=\"DPGP/results/simulated/fast_shape8/case_gene_expression_fig_4.png\" width=\"500\">\n"
   ]
  },
  {
   "cell_type": "code",
   "execution_count": 6,
   "metadata": {},
   "outputs": [
    {
     "name": "stdout",
     "output_type": "stream",
     "text": [
      "{\n",
      "\t            1: 42,   2: 31,   3: 30,   4:  9,   5: 53,   6: 27,   7: 26,   8: 35,   9: 16,\n",
      "\t  10: 95,  11: 15,  12: 15,  13: 19,  14: 18,  15: 17,  16: 21,  17: 37,  18: 14,  19: 22,\n",
      "\t  20:  7,  21: 18,  22: 33,\n",
      "}\n"
     ]
    }
   ],
   "source": [
    "fast_shape8 = get_cluster_counts(\"DPGP/results/simulated/fast_shape8/case_optimal_clustering.txt\")\n",
    "print_clusters(fast_shape8)"
   ]
  },
  {
   "cell_type": "markdown",
   "metadata": {},
   "source": [
    "#### Default shape ($\\alpha=6$)\n",
    "<img src=\"DPGP/results/simulated/fast_shape6/case_gene_expression_fig_1.png\" width=\"500\">\n",
    "<img src=\"DPGP/results/simulated/fast_shape6/case_gene_expression_fig_2.png\" width=\"500\">\n",
    "<img src=\"DPGP/results/simulated/fast_shape6/case_gene_expression_fig_3.png\" width=\"500\">"
   ]
  },
  {
   "cell_type": "code",
   "execution_count": 7,
   "metadata": {},
   "outputs": [
    {
     "name": "stdout",
     "output_type": "stream",
     "text": [
      "{\n",
      "\t            1: 58,   2: 52,   3: 68,   4: 19,   5: 87,   6: 83,   7: 29,   8: 81,   9: 28,\n",
      "\t  10: 14,  11: 19,  12: 19,  13: 37,  14:  6,\n",
      "}\n"
     ]
    }
   ],
   "source": [
    "fast_shape6 = get_cluster_counts(\"DPGP/results/simulated/fast_shape6/case_optimal_clustering.txt\")\n",
    "print_clusters(fast_shape6)"
   ]
  },
  {
   "cell_type": "markdown",
   "metadata": {},
   "source": [
    "#### Default shape ($\\alpha=4$)\n",
    "<img src=\"DPGP/results/simulated/fast_shape4/case_gene_expression_fig_1.png\" width=\"500\">\n",
    "<img src=\"DPGP/results/simulated/fast_shape4/case_gene_expression_fig_2.png\" width=\"500\">"
   ]
  },
  {
   "cell_type": "code",
   "execution_count": 8,
   "metadata": {},
   "outputs": [
    {
     "name": "stdout",
     "output_type": "stream",
     "text": [
      "{\n",
      "\t            1: 53,   2:112,   3: 71,   4:104,   5:204,   6: 52,   7:  4,\n",
      "}\n"
     ]
    }
   ],
   "source": [
    "fast_shape4 = get_cluster_counts(\"DPGP/results/simulated/fast_shape4/case_optimal_clustering.txt\")\n",
    "print_clusters(fast_shape4)"
   ]
  },
  {
   "cell_type": "markdown",
   "metadata": {},
   "source": [
    "#### Default shape ($\\alpha=2$)\n",
    "<img src=\"DPGP/results/simulated/fast_shape2/case_gene_expression_fig_1.png\" width=\"500\">\n",
    "<img src=\"DPGP/results/simulated/fast_shape2/case_gene_expression_fig_2.png\" width=\"500\">"
   ]
  },
  {
   "cell_type": "code",
   "execution_count": 9,
   "metadata": {},
   "outputs": [
    {
     "name": "stdout",
     "output_type": "stream",
     "text": [
      "{\n",
      "\t            1: 46,   2:127,   3: 78,   4:153,   5: 76,   6: 21,   7: 76,   8: 23,\n",
      "}\n"
     ]
    }
   ],
   "source": [
    "fast_shape2 = get_cluster_counts(\"DPGP/results/simulated/fast_shape2/case_optimal_clustering.txt\")\n",
    "print_clusters(fast_shape2)"
   ]
  },
  {
   "cell_type": "markdown",
   "metadata": {},
   "source": [
    "### Fast DPGP on DE filtered data (164 genes)"
   ]
  },
  {
   "cell_type": "markdown",
   "metadata": {},
   "source": [
    "#### Default shape ($\\alpha=12$)\n",
    "<img src=\"DPGP/results/simulated/DE_fast_shape12/case_gene_expression_fig_1.png\" width=\"500\">\n",
    "<img src=\"DPGP/results/simulated/DE_fast_shape12/case_gene_expression_fig_2.png\" width=\"500\">\n",
    "<img src=\"DPGP/results/simulated/DE_fast_shape12/case_gene_expression_fig_3.png\" width=\"500\">"
   ]
  },
  {
   "cell_type": "code",
   "execution_count": 10,
   "metadata": {},
   "outputs": [
    {
     "name": "stdout",
     "output_type": "stream",
     "text": [
      "{\n",
      "\t            1:  2,   2: 40,   3:  6,   4:  6,   5: 18,   6: 14,   7:  1,   8: 20,   9: 14,\n",
      "\t  10:  6,  11: 13,  12:  2,  13:  3,  14: 18,  15:  1,\n",
      "}\n"
     ]
    }
   ],
   "source": [
    "DE_fast_shape12 = get_cluster_counts(\"DPGP/results/simulated/DE_fast_shape12/case_optimal_clustering.txt\")\n",
    "print_clusters(DE_fast_shape12)"
   ]
  },
  {
   "cell_type": "markdown",
   "metadata": {},
   "source": [
    "#### Default shape ($\\alpha=10$)\n",
    "<img src=\"DPGP/results/simulated/DE_fast_shape10/case_gene_expression_fig_1.png\" width=\"500\">\n",
    "<img src=\"DPGP/results/simulated/DE_fast_shape10/case_gene_expression_fig_2.png\" width=\"500\">"
   ]
  },
  {
   "cell_type": "code",
   "execution_count": 11,
   "metadata": {},
   "outputs": [
    {
     "name": "stdout",
     "output_type": "stream",
     "text": [
      "{\n",
      "\t            1:  3,   2: 62,   3: 18,   4:  5,   5: 14,   6: 15,   7:  8,   8: 16,   9:  6,\n",
      "\t  10: 12,  11:  2,  12:  3,\n",
      "}\n"
     ]
    }
   ],
   "source": [
    "DE_fast_shape10 = get_cluster_counts(\"DPGP/results/simulated/DE_fast_shape10/case_optimal_clustering.txt\")\n",
    "print_clusters(DE_fast_shape10)"
   ]
  },
  {
   "cell_type": "markdown",
   "metadata": {},
   "source": [
    "#### Default shape ($\\alpha=8$)\n",
    "<img src=\"DPGP/results/simulated/DE_fast_shape8/case_gene_expression_fig_1.png\" width=\"500\">\n",
    "<img src=\"DPGP/results/simulated/DE_fast_shape8/case_gene_expression_fig_2.png\" width=\"500\">"
   ]
  },
  {
   "cell_type": "code",
   "execution_count": 12,
   "metadata": {},
   "outputs": [
    {
     "name": "stdout",
     "output_type": "stream",
     "text": [
      "{\n",
      "\t            1:  3,   2: 62,   3: 15,   4:  3,   5: 26,   6: 21,   7:  3,   8: 17,   9: 14,\n",
      "}\n"
     ]
    }
   ],
   "source": [
    "DE_fast_shape8 = get_cluster_counts(\"DPGP/results/simulated/DE_fast_shape8/case_optimal_clustering.txt\")\n",
    "print_clusters(DE_fast_shape8)"
   ]
  },
  {
   "cell_type": "markdown",
   "metadata": {},
   "source": [
    "#### Default shape ($\\alpha=6$)\n",
    "<img src=\"DPGP/results/simulated/DE_fast_shape6/case_gene_expression_fig_1.png\" width=\"500\">"
   ]
  },
  {
   "cell_type": "code",
   "execution_count": 13,
   "metadata": {},
   "outputs": [
    {
     "name": "stdout",
     "output_type": "stream",
     "text": [
      "{\n",
      "\t            1: 17,   2: 65,   3: 14,   4: 19,   5:  1,   6: 48,\n",
      "}\n"
     ]
    }
   ],
   "source": [
    "DE_fast_shape6 = get_cluster_counts(\"DPGP/results/simulated/DE_fast_shape6/case_optimal_clustering.txt\")\n",
    "print_clusters(DE_fast_shape6)"
   ]
  },
  {
   "cell_type": "markdown",
   "metadata": {},
   "source": [
    "#### Default shape ($\\alpha=4$)\n",
    "<img src=\"DPGP/results/simulated/DE_fast_shape4/case_gene_expression_fig_1.png\" width=\"500\">"
   ]
  },
  {
   "cell_type": "code",
   "execution_count": 14,
   "metadata": {},
   "outputs": [
    {
     "name": "stdout",
     "output_type": "stream",
     "text": [
      "{\n",
      "\t            1:  8,   2: 72,   3: 26,   4: 10,   5: 48,\n",
      "}\n"
     ]
    }
   ],
   "source": [
    "DE_fast_shape4 = get_cluster_counts(\"DPGP/results/simulated/DE_fast_shape4/case_optimal_clustering.txt\")\n",
    "print_clusters(DE_fast_shape4)"
   ]
  },
  {
   "cell_type": "markdown",
   "metadata": {},
   "source": [
    "#### Default shape ($\\alpha=2$)\n",
    "<img src=\"DPGP/results/simulated/DE_fast_shape2/case_gene_expression_fig_1.png\" width=\"500\">"
   ]
  },
  {
   "cell_type": "code",
   "execution_count": 15,
   "metadata": {},
   "outputs": [
    {
     "name": "stdout",
     "output_type": "stream",
     "text": [
      "{\n",
      "\t            1: 15,   2: 79,   3: 70,\n",
      "}\n"
     ]
    }
   ],
   "source": [
    "DE_fast_shape2 = get_cluster_counts(\"DPGP/results/simulated/DE_fast_shape2/case_optimal_clustering.txt\")\n",
    "print_clusters(DE_fast_shape2)"
   ]
  },
  {
   "cell_type": "markdown",
   "metadata": {},
   "source": [
    "### fDPGP $\\alpha=6$: full expression matrix vs. filtered DE\n",
    "<img src=\"DPGP/results/simulated/fast_shape6/case_gene_expression_fig_1.png\" width=\"500\">\n",
    "<img src=\"DPGP/results/simulated/fast_shape6/case_gene_expression_fig_2.png\" width=\"500\">\n",
    "<img src=\"DPGP/results/simulated/fast_shape6/case_gene_expression_fig_3.png\" width=\"500\">\n",
    "<img src=\"DPGP/results/simulated/DE_fast_shape6/case_gene_expression_fig_1.png\" width=\"500\">"
   ]
  },
  {
   "cell_type": "code",
   "execution_count": 16,
   "metadata": {},
   "outputs": [
    {
     "name": "stdout",
     "output_type": "stream",
     "text": [
      "{\n",
      "\t            1: 58,   2: 52,   3: 68,   4: 19,   5: 87,   6: 83,   7: 29,   8: 81,   9: 28,\n",
      "\t  10: 14,  11: 19,  12: 19,  13: 37,  14:  6,\n",
      "}\n",
      "{\n",
      "\t            1: 17,   2: 65,   3: 14,   4: 19,   5:  1,   6: 48,\n",
      "}\n"
     ]
    }
   ],
   "source": [
    "print_clusters(fast_shape6)\n",
    "print_clusters(DE_fast_shape6)"
   ]
  }
 ],
 "metadata": {
  "kernelspec": {
   "display_name": "Python 3",
   "language": "python",
   "name": "python3"
  },
  "language_info": {
   "codemirror_mode": {
    "name": "ipython",
    "version": 3
   },
   "file_extension": ".py",
   "mimetype": "text/x-python",
   "name": "python",
   "nbconvert_exporter": "python",
   "pygments_lexer": "ipython3",
   "version": "3.10.5"
  },
  "orig_nbformat": 4
 },
 "nbformat": 4,
 "nbformat_minor": 2
}
